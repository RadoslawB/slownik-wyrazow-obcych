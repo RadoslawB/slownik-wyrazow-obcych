{
 "cells": [
  {
   "cell_type": "code",
   "execution_count": 3,
   "id": "eb7328a7",
   "metadata": {
    "ExecuteTime": {
     "end_time": "2022-01-08T21:29:51.363194Z",
     "start_time": "2022-01-08T21:29:51.304320Z"
    }
   },
   "outputs": [],
   "source": [
    "import requests"
   ]
  },
  {
   "cell_type": "code",
   "execution_count": 23,
   "id": "423f4817",
   "metadata": {
    "ExecuteTime": {
     "end_time": "2022-01-08T21:34:44.481694Z",
     "start_time": "2022-01-08T21:34:44.477521Z"
    }
   },
   "outputs": [],
   "source": [
    "host_url = 'http://www.edupedia.pl'"
   ]
  },
  {
   "cell_type": "code",
   "execution_count": 24,
   "id": "2652a0f0",
   "metadata": {
    "ExecuteTime": {
     "end_time": "2022-01-08T21:34:47.858905Z",
     "start_time": "2022-01-08T21:34:47.856005Z"
    }
   },
   "outputs": [],
   "source": [
    "root_url = host_url + '/map/dictionary/id/8_slownik_wyrazow_obcych.html'"
   ]
  },
  {
   "cell_type": "code",
   "execution_count": 5,
   "id": "d905bae9",
   "metadata": {
    "ExecuteTime": {
     "end_time": "2022-01-08T21:30:13.649525Z",
     "start_time": "2022-01-08T21:30:12.594594Z"
    }
   },
   "outputs": [],
   "source": [
    "root_html = requests.get(root_url)"
   ]
  },
  {
   "cell_type": "code",
   "execution_count": 11,
   "id": "e0534f62",
   "metadata": {
    "ExecuteTime": {
     "end_time": "2022-01-08T21:31:37.117529Z",
     "start_time": "2022-01-08T21:31:36.211420Z"
    }
   },
   "outputs": [],
   "source": [
    "from bs4 import BeautifulSoup\n",
    "root_soup = BeautifulSoup(root_html.text, 'html.parser')"
   ]
  },
  {
   "cell_type": "code",
   "execution_count": 14,
   "id": "1cf1268e",
   "metadata": {
    "ExecuteTime": {
     "end_time": "2022-01-08T21:32:29.568321Z",
     "start_time": "2022-01-08T21:32:29.466640Z"
    }
   },
   "outputs": [],
   "source": [
    "links_to_word_pages = root_soup.find_all('a', class_='lkyDescLink')"
   ]
  },
  {
   "cell_type": "code",
   "execution_count": 20,
   "id": "7d9fd42b",
   "metadata": {
    "ExecuteTime": {
     "end_time": "2022-01-08T21:33:55.524228Z",
     "start_time": "2022-01-08T21:33:55.513900Z"
    }
   },
   "outputs": [],
   "source": [
    "paths_to_words_pages = list(map(lambda a: a.attrs['href'], links_to_word_pages))"
   ]
  },
  {
   "cell_type": "code",
   "execution_count": 47,
   "id": "08d601cb",
   "metadata": {
    "ExecuteTime": {
     "end_time": "2022-01-08T22:16:52.809612Z",
     "start_time": "2022-01-08T22:16:52.804816Z"
    }
   },
   "outputs": [],
   "source": [
    "from bs4 import BeautifulSoup\n",
    "\n",
    "def get_soup(url):\n",
    "    text = requests.get(url).text\n",
    "    return BeautifulSoup(text, 'html.parser')"
   ]
  },
  {
   "cell_type": "code",
   "execution_count": 60,
   "id": "707c0cc5",
   "metadata": {
    "ExecuteTime": {
     "end_time": "2022-01-08T22:19:25.401275Z",
     "start_time": "2022-01-08T22:19:25.395664Z"
    }
   },
   "outputs": [],
   "source": [
    "def extract_definition(html):\n",
    "    word_container = html.find(class_='wordsTitle')\n",
    "    word = word_container.a.text.strip()\n",
    "    definition = html.find(class_='wordsPtext').text.strip()\n",
    "\n",
    "    return word, definition"
   ]
  },
  {
   "cell_type": "code",
   "execution_count": 62,
   "id": "21118b7a",
   "metadata": {
    "ExecuteTime": {
     "end_time": "2022-01-08T22:19:35.271051Z",
     "start_time": "2022-01-08T22:19:35.266959Z"
    }
   },
   "outputs": [],
   "source": [
    "def scrape_definition(url):\n",
    "    soup = get_soup(url)\n",
    "    return extract_definition(soup)"
   ]
  },
  {
   "cell_type": "code",
   "execution_count": 66,
   "id": "a6ddf61f",
   "metadata": {
    "ExecuteTime": {
     "end_time": "2022-01-08T22:20:01.791071Z",
     "start_time": "2022-01-08T22:20:01.787511Z"
    }
   },
   "outputs": [],
   "source": [
    "definitions = []"
   ]
  },
  {
   "cell_type": "code",
   "execution_count": 67,
   "id": "ad0c59b2",
   "metadata": {
    "ExecuteTime": {
     "end_time": "2022-01-08T22:53:23.584426Z",
     "start_time": "2022-01-08T22:20:02.616294Z"
    }
   },
   "outputs": [
    {
     "data": {
      "application/vnd.jupyter.widget-view+json": {
       "model_id": "cd35b749298d4ac68aebae96f56e79e3",
       "version_major": 2,
       "version_minor": 0
      },
      "text/plain": [
       "  0%|          | 0/10582 [00:00<?, ?it/s]"
      ]
     },
     "metadata": {},
     "output_type": "display_data"
    }
   ],
   "source": [
    "from tqdm.notebook import tqdm\n",
    "\n",
    "for path in tqdm(paths_to_words_pages):\n",
    "    url = host_url + path\n",
    "    definition = scrape_definition(url)\n",
    "    definitions.append((path, *definition))\n"
   ]
  },
  {
   "cell_type": "code",
   "execution_count": 74,
   "id": "79b92685",
   "metadata": {
    "ExecuteTime": {
     "end_time": "2022-01-08T22:57:55.879325Z",
     "start_time": "2022-01-08T22:57:55.853139Z"
    }
   },
   "outputs": [],
   "source": [
    "import pickle\n",
    "\n",
    "with open('definitions.pkl', 'wb') as f:\n",
    "    pickle.dump(definitions, f)"
   ]
  },
  {
   "cell_type": "code",
   "execution_count": 85,
   "id": "372f8fda",
   "metadata": {
    "ExecuteTime": {
     "end_time": "2022-01-08T23:00:10.034426Z",
     "start_time": "2022-01-08T23:00:10.021294Z"
    }
   },
   "outputs": [],
   "source": [
    "import random\n",
    "random.shuffle(definitions)"
   ]
  },
  {
   "cell_type": "code",
   "execution_count": 96,
   "id": "ab352068",
   "metadata": {
    "ExecuteTime": {
     "end_time": "2022-01-08T23:10:51.941059Z",
     "start_time": "2022-01-08T23:10:51.929208Z"
    }
   },
   "outputs": [],
   "source": [
    "rows_to_write = tuple((d[1], d[2]) for d in definitions)"
   ]
  },
  {
   "cell_type": "code",
   "execution_count": 2,
   "id": "e6999feb",
   "metadata": {
    "ExecuteTime": {
     "end_time": "2022-01-10T21:17:05.730445Z",
     "start_time": "2022-01-10T21:17:05.727025Z"
    }
   },
   "outputs": [],
   "source": [
    "import csv\n",
    "with open('thesaurus.csv', 'w') as f:\n",
    "    writer = csv.writer(f,quoting=csv.QUOTE_ALL)\n",
    "    writer.writerows(rows_to_write)"
   ]
  }
 ],
 "metadata": {
  "hide_input": false,
  "kernelspec": {
   "display_name": "Python 3 (ipykernel)",
   "language": "python",
   "name": "python3"
  },
  "language_info": {
   "codemirror_mode": {
    "name": "ipython",
    "version": 3
   },
   "file_extension": ".py",
   "mimetype": "text/x-python",
   "name": "python",
   "nbconvert_exporter": "python",
   "pygments_lexer": "ipython3",
   "version": "3.8.6"
  },
  "toc": {
   "base_numbering": 1,
   "nav_menu": {},
   "number_sections": true,
   "sideBar": true,
   "skip_h1_title": false,
   "title_cell": "Table of Contents",
   "title_sidebar": "Contents",
   "toc_cell": false,
   "toc_position": {},
   "toc_section_display": true,
   "toc_window_display": false
  }
 },
 "nbformat": 4,
 "nbformat_minor": 5
}